{
 "cells": [
  {
   "cell_type": "code",
   "execution_count": 105,
   "metadata": {
    "collapsed": false
   },
   "outputs": [],
   "source": [
    "from selenium import webdriver\n",
    "from selenium.common.exceptions import NoSuchElementException\n",
    "\n",
    "class JobCrawler(object):\n",
    "    \n",
    "    def start(self, job_site_parser):\n",
    "        browser = webdriver.Firefox()\n",
    "        browser.get(job_site_parser.site_url)\n",
    "        urls = job_site_parser.list_detail_page_urls_fn(browser)\n",
    "\n",
    "        jobs = []\n",
    "        for url in urls:\n",
    "            job = self.__parse_job_detail_page(\n",
    "                browser, \n",
    "                url, \n",
    "                job_site_parser.field_css_selectors, \n",
    "                job_site_parser.field_element_processors)\n",
    "            jobs.append(job)\n",
    "            \n",
    "        browser.quit()\n",
    "\n",
    "        return jobs\n",
    "\n",
    "    def __parse_job_detail_page(self, browser, url, field_css_selectors, field_element_processors = None):\n",
    "        browser.get(url)\n",
    "\n",
    "        job = {}\n",
    "        job[\"url\"] = url\n",
    "        for (name, css_selector) in field_css_selectors.items():\n",
    "            if not css_selector:\n",
    "                job[name] =  None\n",
    "                continue\n",
    "                \n",
    "            field_element_processor = None\n",
    "            if field_element_processors is not None and name in field_element_processors:\n",
    "                field_element_processor = field_element_processors[name]\n",
    "\n",
    "            value = self.__parse_field_content(browser, css_selector, field_element_processor)\n",
    "            job[name] = value\n",
    "\n",
    "        return job\n",
    "\n",
    "    def __parse_field_content(self, browser, field_css_selector, element_text_processor=None):\n",
    "        try:\n",
    "            element = browser.find_element_by_css_selector(field_css_selector)\n",
    "        except NoSuchElementException as inst:\n",
    "            print(\"can not find the element with css selector: [%s] in: %s\" % (field_css_selector, browser.current_url))\n",
    "            return None\n",
    "        else:\n",
    "            if element_text_processor is None:\n",
    "                element_text_processor = lambda e : element.text\n",
    "\n",
    "            return element_text_processor(element)"
   ]
  },
  {
   "cell_type": "code",
   "execution_count": 63,
   "metadata": {
    "collapsed": false
   },
   "outputs": [
    {
     "name": "stdout",
     "output_type": "stream",
     "text": [
      "[{'updated_date': u'2016-09-20 14:22:52', 'url': u'http://www.shixiseng.com/intern/inn_acy6tmvojksi', 'industry': [u'\\u8f6f\\u4ef6', u'\\u786c\\u4ef6'], 'deadline': u'2016-10-20', 'location': u'\\u4e0a\\u6d77 \\u4e28', 'company': u'IBM', 'job_name': u'OpenStack \\u5f00\\u53d1-Java / C /C+'}, {'updated_date': u'2016-09-20 14:32:17', 'url': u'http://www.shixiseng.com/intern/inn_l6rgp7ie6imr', 'industry': [u'\\u4e92\\u8054\\u7f51'], 'deadline': u'2016-10-20', 'location': u'\\u5317\\u4eac \\u4e28', 'company': u'\\u817e\\u8baf', 'job_name': u'\\u4ea7\\u54c1\\u5b9e\\u4e60\\u751f'}, {'updated_date': u'2016-09-21 08:30:32', 'url': u'http://www.shixiseng.com/intern/inn_3to1j8g1gxle', 'industry': [u'\\u4f01\\u4e1a\\u670d\\u52a1'], 'deadline': u'2016-10-13', 'location': u'\\u4e0a\\u6d77 \\u4e28', 'company': u'CEB', 'job_name': u'\\u9879\\u76ee\\u6280\\u672f\\u652f\\u6301'}, {'updated_date': u'2016-09-20 11:53:15', 'url': u'http://www.shixiseng.com/intern/inn_qzbmflvidhon', 'industry': [u'\\u80fd\\u6e90', u'\\u5316\\u5b66\\u5316\\u5de5'], 'deadline': u'2016-10-20', 'location': u'\\u4e0a\\u6d77 \\u4e28', 'company': u'BP\\u82f1\\u56fd\\u77f3\\u6cb9', 'job_name': u'HR Intern'}, {'updated_date': u'2016-09-20 16:19:34', 'url': u'http://www.shixiseng.com/intern/inn_rcwmb6v9rzhw', 'industry': [u'\\u5feb\\u6d88'], 'deadline': u'2016-10-14', 'location': u'\\u4e0a\\u6d77 \\u4e28', 'company': u'\\u96c5\\u8bd7\\u5170\\u9edb', 'job_name': u'Origins PR Intern'}, {'updated_date': u'2016-09-20 11:03:30', 'url': u'http://www.shixiseng.com/intern/inn_2vo3nlhjolen', 'industry': [u'\\u5feb\\u6d88'], 'deadline': u'2016-10-02', 'location': u'\\u5317\\u4eac \\u4e28', 'company': u'\\u84dd\\u6708\\u4eae', 'job_name': u'\\u4eba\\u529b\\u8d44\\u6e90\\u5b9e\\u4e60\\u751f'}, {'updated_date': u'2016-09-20 17:32:47', 'url': u'http://www.shixiseng.com/intern/inn_7wcakbkh0ggc', 'industry': [u'\\u5feb\\u6d88'], 'deadline': u'2016-10-12', 'location': u'\\u5317\\u4eac \\u4e28', 'company': u'\\u9102\\u5c14\\u591a\\u65af', 'job_name': u'\\u4eba\\u529b\\u8d44\\u6e90\\u5b9e\\u4e60\\u751f'}, {'updated_date': u'2016-09-20 14:19:11', 'url': u'http://www.shixiseng.com/intern/inn_bf1qblmls4eg', 'industry': [u'\\u4e92\\u8054\\u7f51'], 'deadline': u'2016-10-20', 'location': u'\\u4e0a\\u6d77 \\u4e28', 'company': u'\\u6d0b\\u7801\\u5934', 'job_name': u'\\u4ea7\\u54c1\\u52a9\\u7406'}]\n"
     ]
    }
   ],
   "source": [
    "def list_shixiseng_job_details_page_urls(browser):\n",
    "    elems = browser.find_elements_by_css_selector('.jib_inf_inf')\n",
    "    urls = []\n",
    "    for elem in elems:\n",
    "        jobName_link = elem.find_element_by_css_selector(\".under_ani_jobname\")\n",
    "        urls.append(jobName_link.get_attribute(\"href\"))\n",
    "    return urls\n",
    "\n",
    "shixisheng_css_selectors = {\n",
    "    \"job_name\" :  '.jb_det_left .job_name',\n",
    "    \"updated_date\" : '.jb_det_left .update_time',\n",
    "    \"location\" : '.jb_det_left .city',\n",
    "    \"deadline\" : '.closing_date + .date',\n",
    "    \"company\" : '.jb_det_right .jb_det_right_top > a + p',\n",
    "    \"industry\" : '.jb_det_right .jb_det_right_top .domain'\n",
    "}\n",
    "\n",
    "def update_date_processor(element):\n",
    "    raw_date = element.text\n",
    "    if len(raw_date) > 2:\n",
    "        return raw_date[:-2]\n",
    "    else:\n",
    "        return raw_date\n",
    "    \n",
    "def industry_processor(element):\n",
    "    raw_text = element.text\n",
    "    return raw_text.split(\",\")\n",
    "\n",
    "\n",
    "post_processors = {\n",
    "        'updated_date' : update_date_processor,\n",
    "        'industry' : industry_processor\n",
    "    }\n",
    "\n",
    "crawler = JobCrawler()\n",
    "\n",
    "jobs = crawler.start('http://www.shixiseng.com', \n",
    "                     list_shixiseng_job_details_page_urls, \n",
    "                     shixisheng_css_selectors, \n",
    "                     post_processors)\n",
    "\n",
    "print(jobs)\n"
   ]
  },
  {
   "cell_type": "code",
   "execution_count": 87,
   "metadata": {
    "collapsed": false
   },
   "outputs": [
    {
     "name": "stdout",
     "output_type": "stream",
     "text": [
      "can not find the element with css selector: [.job-sidebar .job-sidebar__company_bottom .job-sidebar__slogan .job-require] in: http://job.qiaobutang.com/1007714\n",
      "[{'updated_date': u'2016-09-18', 'url': u'http://job.qiaobutang.com/1073591', 'industry': u'\\u4e92\\u8054\\u7f51', 'deadline': None, 'location': u'\\u4e0a\\u6d77-\\u9ec4\\u6d66', 'company': u'\\u5c0f\\u7ea2\\u4e66', 'job_name': u'\\u7ba1\\u7406\\u57f9\\u8bad\\u751f'}, {'updated_date': u'2016-09-13', 'url': u'http://job.qiaobutang.com/1044595', 'industry': u'\\u9152\\u5e97', 'deadline': None, 'location': u'\\u5168\\u56fd', 'company': u'\\u5982\\u5bb6\\u9152\\u5e97', 'job_name': u'\\u8fd0\\u8425\\u7ba1\\u7406\\u57f9\\u8bad\\u751f'}, {'updated_date': u'2016-09-18', 'url': u'http://job.qiaobutang.com/1027071', 'industry': u'\\u4e0a\\u5e02\\u516c\\u53f8', 'deadline': None, 'location': u'\\u6e56\\u5317', 'company': u'\\u4e2d\\u56fd\\u7535\\u5efa', 'job_name': u'\\u5b9e\\u4e60\\u751f'}, {'updated_date': u'2016-09-18', 'url': u'http://job.qiaobutang.com/1007714', 'industry': None, 'deadline': None, 'location': u'\\u5317\\u4eac-\\u671d\\u9633', 'company': u'\\u4e2d\\u4f01\\u4eba\\u529b', 'job_name': u'\\u56fd\\u4f01\\u8d22\\u52a1\\u5b9e\\u4e60\\u751f'}, {'updated_date': u'2016-08-23', 'url': u'http://job.qiaobutang.com/961979', 'industry': u'\\u5bb6\\u5177', 'deadline': None, 'location': u'\\u5c71\\u4e1c-\\u9752\\u5c9b', 'company': u'\\u9752\\u5c9b\\u6d77\\u5c14\\u5bb6\\u5c45\\u96c6\\u6210', 'job_name': u'2016\\u5c4a\\u7ba1\\u7406\\u57f9\\u8bad\\u751f'}, {'updated_date': u'2016-09-11', 'url': u'http://job.qiaobutang.com/1025559', 'industry': u'\\u5feb\\u901f\\u6d88\\u8d39\\u54c1(\\u98df\\u54c1\\u3001\\u996e\\u6599\\u3001\\u5316\\u5986\\u54c1)', 'deadline': None, 'location': u'\\u5929\\u6d25-\\u6cb3\\u4e1c', 'company': u'\\u519c\\u592b\\u5c71\\u6cc9', 'job_name': u'\\u9500\\u552e\\u7c7b\\u7ba1\\u7406\\u57f9\\u8bad\\u751f'}, {'updated_date': u'2016-09-12', 'url': u'http://job.qiaobutang.com/1006552', 'industry': u'\\u5feb\\u901f\\u6d88\\u8d39\\u54c1(\\u98df\\u54c1\\u3001\\u996e\\u6599\\u3001\\u5316\\u5986\\u54c1)', 'deadline': None, 'location': u'\\u5e7f\\u4e1c-\\u5e7f\\u5dde', 'company': u'\\u5408\\u751f\\u5143\\u96c6\\u56e2', 'job_name': u'\\u7ba1\\u57f9\\u751f\\uff08\\u4e1c\\u5317\\u5730\\u533a\\uff09'}, {'updated_date': u'2016-09-04', 'url': u'http://job.qiaobutang.com/982448', 'industry': u'\\u4e92\\u8054\\u7f51', 'deadline': None, 'location': u'\\u5929\\u6d25-\\u5357\\u5f00', 'company': u'\\u5929\\u6d25\\u541b\\u5eb7\\u6c38\\u5174\\u5546\\u52a1\\u4fe1\\u606f\\u670d\\u52a1', 'job_name': u'\\u5b9e\\u4e60\\u751f \\u5e94\\u5c4a\\u751f \\u50a8\\u5907\\u5e72\\u90e8'}, {'updated_date': u'2016-09-14', 'url': u'http://job.qiaobutang.com/970705', 'industry': u'\\u521b\\u4e1a\\u516c\\u53f8', 'deadline': None, 'location': u'\\u5168\\u56fd', 'company': u'\\u6052\\u5b89\\u5609\\u65b0', 'job_name': u'\\u6280\\u672f\\u7c7b\\u7ba1\\u7406\\u57f9\\u8bad\\u751f'}, {'updated_date': u'2016-09-18', 'url': u'http://job.qiaobutang.com/1075326', 'industry': u'\\u6559\\u80b2', 'deadline': None, 'location': u'\\u5317\\u4eac-\\u660c\\u5e73', 'company': u'\\u5317\\u4eac\\u4f20\\u667a\\u64ad\\u5ba2\\u6559\\u80b2\\u79d1\\u6280', 'job_name': u'\\u7ba1\\u7406\\u57f9\\u8bad\\u751f'}]\n"
     ]
    }
   ],
   "source": [
    "def list_qiaobutang_job_details_page_urls(browser):\n",
    "    elems = browser.find_elements_by_css_selector(\".job__tab.job__tab_top .job__item a.job__title\")\n",
    "\n",
    "    urls = []\n",
    "    for elem in elems:\n",
    "        urls.append(elem.get_attribute(\"href\"))\n",
    "        \n",
    "    return urls[:10]\n",
    "\n",
    "qiaobutang_css_selectors = {\n",
    "    \"job_name\" :  '.job-intro .job-intro__title',\n",
    "    \"updated_date\" : '.job-intro .job-intro__bottom  .job-intro__bottom_right .job-intro__info_content',\n",
    "    \"location\" : '.job-info .job-info-addr',\n",
    "    \"deadline\" : '',\n",
    "    \"company\" : '.job-intro .job-subtitle',\n",
    "    \"industry\" : '.job-sidebar .job-sidebar__company_bottom .job-sidebar__slogan .job-require'\n",
    "}\n",
    "\n",
    "crawler = JobCrawler()\n",
    "jobs = crawler.start('http://job.qiaobutang.com/', \n",
    "                     list_qiaobutang_job_details_page_urls, \n",
    "                     qiaobutang_css_selectors)\n",
    "\n",
    "print(jobs)\n"
   ]
  },
  {
   "cell_type": "code",
   "execution_count": 70,
   "metadata": {
    "collapsed": false
   },
   "outputs": [
    {
     "name": "stdout",
     "output_type": "stream",
     "text": [
      "互联网\n"
     ]
    }
   ],
   "source": [
    "print jobs[0]['industry']"
   ]
  },
  {
   "cell_type": "code",
   "execution_count": 39,
   "metadata": {
    "collapsed": false
   },
   "outputs": [
    {
     "name": "stdout",
     "output_type": "stream",
     "text": [
      "[u'\\u8f6f\\u4ef6', u'\\u786c\\u4ef6']\n"
     ]
    }
   ],
   "source": [
    "txt = u'软件,硬件'\n",
    "print txt.split(\",\")"
   ]
  },
  {
   "cell_type": "code",
   "execution_count": null,
   "metadata": {
    "collapsed": false
   },
   "outputs": [],
   "source": []
  },
  {
   "cell_type": "code",
   "execution_count": 108,
   "metadata": {
    "collapsed": true
   },
   "outputs": [],
   "source": [
    "import abc\n",
    "\n",
    "class JobSiteParser(object):\n",
    "\n",
    "    def __init__(self, url):\n",
    "        self._url = url\n",
    "\n",
    "    @property\n",
    "    def site_url(self):\n",
    "        return self._url\n",
    "\n",
    "    @property\n",
    "    def list_detail_page_urls_fn(self):\n",
    "        return self._list_detail_page_urls\n",
    "\n",
    "    @property\n",
    "    def field_css_selectors(self):\n",
    "        return self._get_field_css_selectors()\n",
    "\n",
    "    @property\n",
    "    def field_element_processors(self):\n",
    "        return self._get_field_element_processors()\n",
    "\n",
    "    @abc.abstractproperty\n",
    "    def _list_detail_page_urls(self, browser):\n",
    "        \"\"\"Method that retrive all details page urls .\n",
    "\n",
    "        Expected to be overriden by sub-classes that require custom support.\n",
    "\n",
    "        Args:\n",
    "          browser: the 'Browser' objects.\n",
    "\n",
    "        Returns:\n",
    "          The list of all urls\n",
    "        \"\"\"\n",
    "        pass\n",
    "\n",
    "    @abc.abstractproperty\n",
    "    def _get_field_css_selectors(self):\n",
    "        \"\"\"Method that get a dictionary of field to its css selector in web page.\n",
    "\n",
    "        Expected to be overriden by sub-classes that require custom support.\n",
    "\n",
    "        Args:\n",
    "          browser: the 'Browser' objects.\n",
    "\n",
    "        Returns:\n",
    "          The dict of field to css selector\n",
    "        \"\"\"\n",
    "        pass\n",
    "        pass        \n",
    "\n",
    "    def _get_field_element_processors(self):\n",
    "        return None\n",
    "\n"
   ]
  },
  {
   "cell_type": "code",
   "execution_count": 109,
   "metadata": {
    "collapsed": true
   },
   "outputs": [],
   "source": [
    "class ShixisengSiteParser(JobSiteParser):\n",
    "    \n",
    "    def __init(self, url):\n",
    "        super(ShixisengSiteParser, self).__init__(url=url)\n",
    "    \n",
    "    def _get_field_css_selectors(self):\n",
    "        return {\n",
    "            \"job_name\" :  '.jb_det_left .job_name',\n",
    "            \"updated_date\" : '.jb_det_left .update_time',\n",
    "            \"location\" : '.jb_det_left .city',\n",
    "            \"deadline\" : '.closing_date + .date',\n",
    "            \"company\" : '.jb_det_right .jb_det_right_top > a + p',\n",
    "            \"industry\" : '.jb_det_right .jb_det_right_top .domain'\n",
    "        }\n",
    "    \n",
    "    def _list_detail_page_urls(self, browser):\n",
    "        elems = browser.find_elements_by_css_selector('.jib_inf_inf')\n",
    "        urls = []\n",
    "        for elem in elems:\n",
    "            jobName_link = elem.find_element_by_css_selector(\".under_ani_jobname\")\n",
    "            urls.append(jobName_link.get_attribute(\"href\"))\n",
    "        return urls\n",
    "    \n",
    "    def _get_field_element_processors(self):\n",
    "        processors = {\n",
    "            'updated_date' : self._update_date_processor,\n",
    "            'industry' : self._industry_processor\n",
    "        }\n",
    "        return processors\n",
    "        \n",
    "        \n",
    "    def _update_date_processor(self, element):\n",
    "        raw_date = element.text\n",
    "        if len(raw_date) > 2:\n",
    "            return raw_date[:-2]\n",
    "        else:\n",
    "            return raw_date\n",
    "    \n",
    "    def _industry_processor(self, element):\n",
    "        raw_text = element.text\n",
    "        return raw_text.split(\",\")\n",
    "    "
   ]
  },
  {
   "cell_type": "code",
   "execution_count": 111,
   "metadata": {
    "collapsed": true
   },
   "outputs": [],
   "source": [
    "class QiaobutangSiteParser(JobSiteParser):\n",
    "    \n",
    "    def __init(self, url):\n",
    "        super(QiaobutangSiteParser, self).__init__(url=url)\n",
    "    \n",
    "    def _get_field_css_selectors(self):\n",
    "        return {\n",
    "            \"job_name\" :  '.job-intro .job-intro__title',\n",
    "            \"updated_date\" : '.job-intro .job-intro__bottom  .job-intro__bottom_right .job-intro__info_content',\n",
    "            \"location\" : '.job-info .job-info-addr',\n",
    "            \"deadline\" : '',\n",
    "            \"company\" : '.job-intro .job-subtitle',\n",
    "            \"industry\" : '.job-sidebar .job-sidebar__company_bottom .job-sidebar__slogan .job-require'\n",
    "        }\n",
    "    \n",
    "    def _list_detail_page_urls(self, browser):\n",
    "        elems = browser.find_elements_by_css_selector(\".job__tab.job__tab_top .job__item a.job__title\")\n",
    "\n",
    "        urls = []\n",
    "        for elem in elems:\n",
    "            urls.append(elem.get_attribute(\"href\"))\n",
    "        \n",
    "        return urls[:10]"
   ]
  },
  {
   "cell_type": "code",
   "execution_count": 112,
   "metadata": {
    "collapsed": false
   },
   "outputs": [
    {
     "name": "stdout",
     "output_type": "stream",
     "text": [
      "can not find the element with css selector: [.job-sidebar .job-sidebar__company_bottom .job-sidebar__slogan .job-require] in: http://job.qiaobutang.com/1007714\n",
      "[{'updated_date': u'2016-09-18', 'url': u'http://job.qiaobutang.com/1073591', 'industry': u'\\u4e92\\u8054\\u7f51', 'deadline': None, 'location': u'\\u4e0a\\u6d77-\\u9ec4\\u6d66', 'company': u'\\u5c0f\\u7ea2\\u4e66', 'job_name': u'\\u7ba1\\u7406\\u57f9\\u8bad\\u751f'}, {'updated_date': u'2016-09-13', 'url': u'http://job.qiaobutang.com/1044595', 'industry': u'\\u9152\\u5e97', 'deadline': None, 'location': u'\\u5168\\u56fd', 'company': u'\\u5982\\u5bb6\\u9152\\u5e97', 'job_name': u'\\u8fd0\\u8425\\u7ba1\\u7406\\u57f9\\u8bad\\u751f'}, {'updated_date': u'2016-09-18', 'url': u'http://job.qiaobutang.com/1027071', 'industry': u'\\u4e0a\\u5e02\\u516c\\u53f8', 'deadline': None, 'location': u'\\u6e56\\u5317', 'company': u'\\u4e2d\\u56fd\\u7535\\u5efa', 'job_name': u'\\u5b9e\\u4e60\\u751f'}, {'updated_date': u'2016-09-18', 'url': u'http://job.qiaobutang.com/1007714', 'industry': None, 'deadline': None, 'location': u'\\u5317\\u4eac-\\u671d\\u9633', 'company': u'\\u4e2d\\u4f01\\u4eba\\u529b', 'job_name': u'\\u56fd\\u4f01\\u8d22\\u52a1\\u5b9e\\u4e60\\u751f'}, {'updated_date': u'2016-08-23', 'url': u'http://job.qiaobutang.com/961979', 'industry': u'\\u5bb6\\u5177', 'deadline': None, 'location': u'\\u5c71\\u4e1c-\\u9752\\u5c9b', 'company': u'\\u9752\\u5c9b\\u6d77\\u5c14\\u5bb6\\u5c45\\u96c6\\u6210', 'job_name': u'2016\\u5c4a\\u7ba1\\u7406\\u57f9\\u8bad\\u751f'}, {'updated_date': u'2016-09-11', 'url': u'http://job.qiaobutang.com/1025559', 'industry': u'\\u5feb\\u901f\\u6d88\\u8d39\\u54c1(\\u98df\\u54c1\\u3001\\u996e\\u6599\\u3001\\u5316\\u5986\\u54c1)', 'deadline': None, 'location': u'\\u5929\\u6d25-\\u6cb3\\u4e1c', 'company': u'\\u519c\\u592b\\u5c71\\u6cc9', 'job_name': u'\\u9500\\u552e\\u7c7b\\u7ba1\\u7406\\u57f9\\u8bad\\u751f'}, {'updated_date': u'2016-09-12', 'url': u'http://job.qiaobutang.com/1006552', 'industry': u'\\u5feb\\u901f\\u6d88\\u8d39\\u54c1(\\u98df\\u54c1\\u3001\\u996e\\u6599\\u3001\\u5316\\u5986\\u54c1)', 'deadline': None, 'location': u'\\u5e7f\\u4e1c-\\u5e7f\\u5dde', 'company': u'\\u5408\\u751f\\u5143\\u96c6\\u56e2', 'job_name': u'\\u7ba1\\u57f9\\u751f\\uff08\\u4e1c\\u5317\\u5730\\u533a\\uff09'}, {'updated_date': u'2016-09-04', 'url': u'http://job.qiaobutang.com/982448', 'industry': u'\\u4e92\\u8054\\u7f51', 'deadline': None, 'location': u'\\u5929\\u6d25-\\u5357\\u5f00', 'company': u'\\u5929\\u6d25\\u541b\\u5eb7\\u6c38\\u5174\\u5546\\u52a1\\u4fe1\\u606f\\u670d\\u52a1', 'job_name': u'\\u5b9e\\u4e60\\u751f \\u5e94\\u5c4a\\u751f \\u50a8\\u5907\\u5e72\\u90e8'}, {'updated_date': u'2016-09-14', 'url': u'http://job.qiaobutang.com/970705', 'industry': u'\\u521b\\u4e1a\\u516c\\u53f8', 'deadline': None, 'location': u'\\u5168\\u56fd', 'company': u'\\u6052\\u5b89\\u5609\\u65b0', 'job_name': u'\\u6280\\u672f\\u7c7b\\u7ba1\\u7406\\u57f9\\u8bad\\u751f'}, {'updated_date': u'2016-09-18', 'url': u'http://job.qiaobutang.com/1075326', 'industry': u'\\u6559\\u80b2', 'deadline': None, 'location': u'\\u5317\\u4eac-\\u660c\\u5e73', 'company': u'\\u5317\\u4eac\\u4f20\\u667a\\u64ad\\u5ba2\\u6559\\u80b2\\u79d1\\u6280', 'job_name': u'\\u7ba1\\u7406\\u57f9\\u8bad\\u751f'}]\n"
     ]
    }
   ],
   "source": [
    "# shixisheng_parser = ShixisengSiteParser(\"http://www.shixiseng.com\")\n",
    "\n",
    "# crawler = JobCrawler()\n",
    "\n",
    "# jobs = crawler.start(shixisheng_parser)\n",
    "\n",
    "# print(jobs)\n",
    "\n",
    "shixisheng_parser = QiaobutangSiteParser(\"http://job.qiaobutang.com/\")\n",
    "\n",
    "crawler = JobCrawler()\n",
    "\n",
    "jobs = crawler.start(shixisheng_parser)\n",
    "\n",
    "print(jobs)"
   ]
  },
  {
   "cell_type": "code",
   "execution_count": null,
   "metadata": {
    "collapsed": true
   },
   "outputs": [],
   "source": [
    "import pymongo"
   ]
  },
  {
   "cell_type": "code",
   "execution_count": null,
   "metadata": {
    "collapsed": true
   },
   "outputs": [],
   "source": [
    "from pymongo import MongoClient\n",
    "\n",
    "client = MongoClient('mongodb://localhost:27017/')"
   ]
  },
  {
   "cell_type": "code",
   "execution_count": null,
   "metadata": {
    "collapsed": true
   },
   "outputs": [],
   "source": [
    "db = client['myTest']\n",
    "collection = db['mycollection']\n",
    "\n",
    "import datetime\n",
    "post = {\"author\": \"Mike\",\n",
    "        \"text\": \"My first blog post!\",\n",
    "        \"tags\": [\"mongodb\", \"python\", \"pymongo\"],\n",
    "        \"date\": datetime.datetime.utcnow()}\n",
    "\n",
    "post_id = collection.insert_one(post).inserted_id\n",
    "print post_id"
   ]
  },
  {
   "cell_type": "code",
   "execution_count": null,
   "metadata": {
    "collapsed": true
   },
   "outputs": [],
   "source": [
    "db.collection_names(include_system_collections=False)"
   ]
  },
  {
   "cell_type": "code",
   "execution_count": null,
   "metadata": {
    "collapsed": true
   },
   "outputs": [],
   "source": [
    "from pymongo import MongoClient\n",
    "\n",
    "class Repository(object):\n",
    "    \n",
    "    def __init__(self, database, collection, url='mongodb://localhost:27017/'):\n",
    "        try:\n",
    "            conn = MongoClient(url)\n",
    "            coll = conn[database][collection]\n",
    "        except Exception as e:\n",
    "            print \"Could not connect to MongoDB: %s\" % e\n",
    "        else:\n",
    "            print \"Connected successfully!!!\"\n",
    "\n",
    "        self.coll = coll\n",
    "\n",
    "\n",
    "    def insert(self, doc):\n",
    "        self.coll.insert(doc)\n",
    "\n",
    "\n",
    "    def find(self, query):\n",
    "        cur = self.coll.find(query)\n",
    "        return cur\n",
    "\n",
    "    def update(self, query, update_doc):\n",
    "        self.update(query, {\"$set\", update_doc})\n",
    "\n",
    "    def remove(self, query):\n",
    "        self.remove(query)"
   ]
  },
  {
   "cell_type": "code",
   "execution_count": null,
   "metadata": {
    "collapsed": true
   },
   "outputs": [],
   "source": [
    "repo = Repository(\"jobs1\", \"job\")"
   ]
  },
  {
   "cell_type": "code",
   "execution_count": null,
   "metadata": {
    "collapsed": true
   },
   "outputs": [],
   "source": [
    "repo.insert({\"name\" : \"david\"})"
   ]
  },
  {
   "cell_type": "code",
   "execution_count": null,
   "metadata": {
    "collapsed": true
   },
   "outputs": [],
   "source": [
    "job = repo.find({\"name\" : \"david\"})\n",
    "print job"
   ]
  },
  {
   "cell_type": "code",
   "execution_count": null,
   "metadata": {
    "collapsed": true
   },
   "outputs": [],
   "source": []
  }
 ],
 "metadata": {
  "kernelspec": {
   "display_name": "Python 2",
   "language": "python",
   "name": "python2"
  },
  "language_info": {
   "codemirror_mode": {
    "name": "ipython",
    "version": 2
   },
   "file_extension": ".py",
   "mimetype": "text/x-python",
   "name": "python",
   "nbconvert_exporter": "python",
   "pygments_lexer": "ipython2",
   "version": "2.7.10"
  }
 },
 "nbformat": 4,
 "nbformat_minor": 1
}
